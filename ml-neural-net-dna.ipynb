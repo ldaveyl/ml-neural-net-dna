{
 "cells": [
  {
   "cell_type": "markdown",
   "metadata": {},
   "source": [
    "# Training and evaluating a fully connected neural network for DNA sequences"
   ]
  },
  {
   "cell_type": "markdown",
   "metadata": {},
   "source": [
    "## 1. Introduction"
   ]
  },
  {
   "cell_type": "code",
   "execution_count": null,
   "metadata": {},
   "outputs": [],
   "source": []
  },
  {
   "cell_type": "markdown",
   "metadata": {},
   "source": [
    "## 2. Load data"
   ]
  },
  {
   "cell_type": "code",
   "execution_count": 520,
   "metadata": {},
   "outputs": [],
   "source": [
    "# Load Packages\n",
    "import pandas as pd\n",
    "import numpy as np\n",
    "import matplotlib.pyplot as plt\n",
    "from matplotlib.ticker import MaxNLocator\n",
    "import torch\n",
    "import torch.nn as nn\n",
    "import torch.nn.functional as F\n",
    "import torch.optim as optim\n",
    "from torch.autograd import Variable\n",
    "from torch.utils.data import Dataset, DataLoader\n",
    "from sklearn.model_selection import train_test_split\n",
    "from sklearn.metrics import auc, roc_curve, precision_recall_curve, average_precision_score\n",
    "from timeit import default_timer as timer\n",
    "import datetime\n",
    "\n",
    "# Specify what we will be working on 'cpu' or 'cuda' (GPU)\n",
    "device = torch.device('cpu')"
   ]
  },
  {
   "cell_type": "code",
   "execution_count": 521,
   "metadata": {},
   "outputs": [],
   "source": [
    "# Load data\n",
    "my_dataset = pd.read_csv(\"dna_sequence_dataset.csv\")\n",
    "\n",
    "# Specificy data (X) and targets (y), since this is an example, we only use the first 50000 samples, decrease\n",
    "# this number if it seems the the training goes slowly\n",
    "X = my_dataset[\"dna_sequence\"][:50000]\n",
    "y = my_dataset[\"target\"][:50000]"
   ]
  },
  {
   "cell_type": "markdown",
   "metadata": {},
   "source": [
    "The input data consists of DNA sequences, and the targets are binary (0 or 1)"
   ]
  },
  {
   "cell_type": "code",
   "execution_count": 399,
   "metadata": {},
   "outputs": [
    {
     "data": {
      "text/plain": [
       "0    AAAAAAAAAATA\n",
       "1    AAAAAAAAAGAG\n",
       "2    AAAAAAAAATCA\n",
       "3    AAAAAAAAATTC\n",
       "4    AAAAAAAACAAA\n",
       "Name: dna_sequence, dtype: object"
      ]
     },
     "execution_count": 399,
     "metadata": {},
     "output_type": "execute_result"
    }
   ],
   "source": [
    "X.head()"
   ]
  },
  {
   "cell_type": "code",
   "execution_count": 400,
   "metadata": {},
   "outputs": [
    {
     "data": {
      "text/plain": [
       "0    0\n",
       "1    0\n",
       "2    0\n",
       "3    0\n",
       "4    0\n",
       "Name: target, dtype: int64"
      ]
     },
     "execution_count": 400,
     "metadata": {},
     "output_type": "execute_result"
    }
   ],
   "source": [
    "y.head()"
   ]
  },
  {
   "cell_type": "markdown",
   "metadata": {},
   "source": [
    "## 3. Create Dataset and DataLoader object"
   ]
  },
  {
   "cell_type": "markdown",
   "metadata": {},
   "source": [
    "Before we can train our neural net, we need to split our dataset into a **training**, **validation** and **testing** set. \n",
    "\n",
    " - The training set is used to train our model (70% of dataset)\n",
    " - The validation set is used to determine the number of epochs that the model is trained for (10% of dataset)\n",
    " - The testing set is used to assess the model's performance on unseen data. (20% of dataset)\n",
    "\n",
    "The **Dataset_fcANN** class is a custom class that defines the data and target values (We will class this a sample from now on). \n",
    "This class has to be a child class from PyTorch's basic Dataset class and it should overwrite at least \n",
    "the **init**, **len** and **getitem** methods.\n",
    "\n",
    "In this case, our custom dataset class simply convert the DNA sequence into a binary matrix using the function **one_hot_sequence**, this matrix is then flattened and converted into a tensor (a multi-dimensional vector), and finallly it is moved to the device (CPU or GPU).\n"
   ]
  },
  {
   "cell_type": "code",
   "execution_count": 401,
   "metadata": {},
   "outputs": [],
   "source": [
    "def one_hot_sequence(seq):\n",
    "    \"\"\"Convert a DNA sequence into a binary matrix.\n",
    "       \n",
    "    Args:\n",
    "        seq (str): input DNA sequence\n",
    "\n",
    "    Returns:\n",
    "        m (numpy array): binary matrix\n",
    "\n",
    "    \"\"\"\n",
    "    d = {'A': 0, 'C': 1, 'G': 2, 'T': 3}\n",
    "    length = len(seq)\n",
    "    m = np.zeros((4, length), dtype='float32')\n",
    "    for i, b in enumerate(seq):\n",
    "        m[d[b]][i] = 1   \n",
    "    return m"
   ]
  },
  {
   "cell_type": "code",
   "execution_count": 402,
   "metadata": {},
   "outputs": [],
   "source": [
    "class Dataset_fcANN(Dataset):\n",
    "    def __init__(self, X, y):\n",
    "        \"Initialization\"\n",
    "        self.X = X\n",
    "        self.y = y\n",
    "    \n",
    "    def __len__(self):\n",
    "        \"Denotes the total number of samples\"\n",
    "        return len(self.X)\n",
    "\n",
    "    def __getitem__(self, idx):\n",
    "        \"Generates one data and target pair\"\n",
    "        # Select DNA sequence at the position in the dataset specified by idx\n",
    "        data = self.X.iloc[idx]\n",
    "        \n",
    "        # Convert the DNA sequence into a binary matrix\n",
    "        data = one_hot_sequence(data)\n",
    "        \n",
    "        # Flatten the binary matrix and convert the numpy array into a PyTorch tensor\n",
    "        data = torch.from_numpy(data.flatten())\n",
    "            \n",
    "        # Move the tensor to the device, depending on the loss function that you are using,\n",
    "        # you may want to change the datatype \n",
    "        data = data.to(device, dtype=torch.float32)\n",
    "        \n",
    "        # Select the target value at the position in the dataset specified by idx, and convert into a numpy array\n",
    "        target = np.array(self.y.iloc[idx])\n",
    "        \n",
    "        # Convert the numpy array into a PyTorch tensor\n",
    "        target = torch.from_numpy(target)\n",
    "        \n",
    "        # Move the tensor to the device\n",
    "        target = target.to(device, dtype=torch.long)\n",
    "        \n",
    "        # Return data and target tensors as a tuple\n",
    "        return data, target"
   ]
  },
  {
   "cell_type": "markdown",
   "metadata": {},
   "source": [
    "The **DataLoader** class defines how the samples are read by the neural network. We set the mini-batch size to 100, and we also set drop_last to True. drop_last ensures that if the last mini-batch of a dataset contains just 1 samples (i.e. number of samples % number of mini-batches = 1), then this data value is dropped so that no errors occur. I could calculate if it is necessary to do this for our example dataset, but since we have so many samples (), we can afford to drop one.\n",
    "\n",
    "We enable shuffle to ensure that there is no bias in the data before we make a split, and stratify is used to make sure that the distribution of our target values (0 and 1) is the same for each split (training, validation and testing)."
   ]
  },
  {
   "cell_type": "code",
   "execution_count": 501,
   "metadata": {},
   "outputs": [],
   "source": [
    "# Create testing set\n",
    "X_train_val, X_test, y_train_val, y_test = train_test_split(X, y, train_size=0.8, test_size=0.2, shuffle=True, stratify=y)\n",
    "\n",
    "# Create training and validation set (7/8th of 80% = 70%, and 1/8th of 80% = 10%)\n",
    "X_train, X_val, y_train, y_val = train_test_split(X_train_val, y_train_val, train_size=7/8, test_size=1/8, shuffle=True, stratify=y_train_val)\n",
    "\n",
    "# Create dictionary with datasets for training, validation and testing set\n",
    "datasets = {\n",
    "    \"train\": Dataset_fcANN(X_train, y_train),\n",
    "    \"valid\": Dataset_fcANN(X_val, y_val),\n",
    "    \"test\": Dataset_fcANN(X_test, y_test)\n",
    "}\n",
    "\n",
    "# Set mini-batch size parameter\n",
    "batch_size = 100\n",
    "\n",
    "# Create dictionary with dataloaders for training, validation and testing set\n",
    "dataloaders = {\n",
    "    \"train\": DataLoader(datasets[\"train\"], batch_size=batch_size, shuffle=True, drop_last=True),\n",
    "    \"valid\": DataLoader(datasets[\"valid\"], batch_size=batch_size, shuffle=True, drop_last=True),\n",
    "    \"test\": DataLoader(datasets[\"test\"], batch_size=batch_size, shuffle=True, drop_last=True)\n",
    "}"
   ]
  },
  {
   "cell_type": "markdown",
   "metadata": {},
   "source": [
    "## 4. Create fully-connect Artificial Neural Network"
   ]
  },
  {
   "cell_type": "markdown",
   "metadata": {},
   "source": [
    "Next, we define the most important part of this notebook: the fully-connected artificial neural network. This neural network includes 1 input layer, 1 hidden layer, 1 output layer, and 2 batch normalization layers.\n",
    "The output layer consists of 2 output nodes: one for each possible target value (0 or 1).\n",
    "\n",
    "This neural network is encoded by the **fcANN** class, which is a child class from PyTorch's nn.Module class, and it has to define a **forward** method. This method describes one forward pass of a data value through the neural network."
   ]
  },
  {
   "cell_type": "code",
   "execution_count": 502,
   "metadata": {},
   "outputs": [],
   "source": [
    "class fcANN(nn.Module):\n",
    "    def __init__(self, in_size=48, hidden_size=192, out_size=2, dropoutp=0.2, epochs=0):\n",
    "        super(fcANN, self).__init__()\n",
    "        \n",
    "        # Define layers\n",
    "        self.fc1 = nn.Linear(in_size, hidden_size)\n",
    "        self.bn = nn.BatchNorm1d(hidden_size)\n",
    "        self.dropout = nn.Dropout(p=dropoutp)\n",
    "        self.fc2 = nn.Linear(hidden_size, out_size)\n",
    "        \n",
    "        # Define number of epochs that the model has been trained for\n",
    "        self.epochs = epochs\n",
    "\n",
    "    def forward(self, x):\n",
    "        x = self.dropout(F.relu(self.bn(self.fc1(x))))\n",
    "        out = self.fc2(x)\n",
    "        return out"
   ]
  },
  {
   "cell_type": "code",
   "execution_count": 503,
   "metadata": {},
   "outputs": [
    {
     "data": {
      "text/plain": [
       "fcANN(\n",
       "  (fc1): Linear(in_features=48, out_features=192, bias=True)\n",
       "  (bn): BatchNorm1d(192, eps=1e-05, momentum=0.1, affine=True, track_running_stats=True)\n",
       "  (dropout): Dropout(p=0.2, inplace=False)\n",
       "  (fc2): Linear(in_features=192, out_features=2, bias=True)\n",
       ")"
      ]
     },
     "execution_count": 503,
     "metadata": {},
     "output_type": "execute_result"
    }
   ],
   "source": [
    "# Define model using default parameters\n",
    "model = fcANN() \n",
    "\n",
    "# View model\n",
    "model"
   ]
  },
  {
   "cell_type": "markdown",
   "metadata": {},
   "source": [
    "## 5. Train neural network"
   ]
  },
  {
   "cell_type": "markdown",
   "metadata": {},
   "source": [
    "To train the neural network, we use the custom **train** function. This function trains the neural network using the data in the dataloader dictionary that we created earlier."
   ]
  },
  {
   "cell_type": "code",
   "execution_count": 547,
   "metadata": {},
   "outputs": [],
   "source": [
    "def train(model,\n",
    "          criterion,\n",
    "          optimizer,\n",
    "          train_loader,\n",
    "          valid_loader,\n",
    "          save_file_name,\n",
    "          max_epochs_stop=3,\n",
    "          n_epochs=3,\n",
    "          print_every=1):\n",
    "    \"\"\"Train a PyTorch neural network.\n",
    "       \n",
    "       This function is inspired by code found in this notebook:\n",
    "       https://github.com/WillKoehrsen/pytorch_challenge/blob/master/Transfer%20Learning%20in%20PyTorch.ipynb\n",
    "\n",
    "    Args:\n",
    "        model (PyTorch model): neural network to train\n",
    "        criterion (PyTorch loss): objective to minimize\n",
    "        optimizer (PyTorch optimizier): optimizer to compute gradients of model parameters\n",
    "        train_loader (PyTorch dataloader): training dataloader to iterate through\n",
    "        valid_loader (PyTorch dataloader): validation dataloader used for early stopping\n",
    "        save_file_name (str ending in '.pt'): file path to save the model state dict\n",
    "        max_epochs_stop (int): maximum number of epochs with no improvement in validation loss for early stopping\n",
    "        n_epochs (int): maximum number of training epochs\n",
    "        print_every (int): frequency of epochs to print training stats\n",
    "\n",
    "    Returns:\n",
    "        model (PyTorch model): trained neural network   \n",
    "        \n",
    "    \"\"\"\n",
    "    ########################\n",
    "    # Initialize variables #\n",
    "    ######################## \n",
    "    \n",
    "    # Create timer\n",
    "    overall_start = timer()\n",
    "    \n",
    "    # Set number of epochs mdoel was trained for to 0\n",
    "    model.epochs = 0\n",
    "    \n",
    "    # Initialize variable for tracking how many times that \n",
    "    # the loss has not lowered after one epoch of training\n",
    "    epochs_no_improve = 0\n",
    "    \n",
    "    # Initialize variable for tracking the validation loss\n",
    "    # We set this variable to +Infinity so that the first time that the model is trained, \n",
    "    # it will always be lower, and thus continue training\n",
    "    valid_loss_min = np.Inf\n",
    "    \n",
    "    # Initialize variable for tracking if the training was stopped early\n",
    "    early_stopping = False\n",
    "    \n",
    "    # Initialize dictionary for tracking different metrics\n",
    "    # This dictionary should contain at least a \"loss\", \"target\", and \"output\" key.\n",
    "    metrics_dict = {'loss': {'train': [], 'valid': []},\n",
    "                    'target': {'train': [], 'valid': []}, \n",
    "                    'output': {'train': [], 'valid': []},\n",
    "                    'accuracy': {'train': [], 'valid': []},\n",
    "                    'roc_auc': {'train': [], 'valid': []},\n",
    "                    'pr_auc': {'train': [], 'valid': []}}\n",
    "    \n",
    "    assert all([x in metrics_dict for x in [\"loss\", \"target\", \"output\"]]), 'Metrics dictionary must contain at least a \"loss\", \"target\", and \"output\" key.'\n",
    "       \n",
    "    for epoch in range(n_epochs):\n",
    "                   \n",
    "        # Initialize metrics to record a new epoch\n",
    "        # We do this for both the training set and the validation set\n",
    "        for mode in ['train', 'valid']:\n",
    "            metrics_dict['loss'][mode].append(0)\n",
    "            # Value is 2, because we have 2 nodes in the output layer (output is numpy array with length 2)\n",
    "            metrics_dict['output'][mode].append(np.empty((0, 2))) \n",
    "            metrics_dict['target'][mode].append([])\n",
    "            metrics_dict['accuracy'][mode].append([])\n",
    "            metrics_dict['roc_auc'][mode].append([])\n",
    "            metrics_dict['pr_auc'][mode].append([])\n",
    "\n",
    "        # Set model to training\n",
    "        model.train()\n",
    "        start = timer()\n",
    "        \n",
    "        #################\n",
    "        # Training loop #\n",
    "        #################\n",
    "\n",
    "        for mini_batch_number, (data, target) in enumerate(train_loader):\n",
    "\n",
    "            # Clear gradients\n",
    "            optimizer.zero_grad()\n",
    "            \n",
    "            # Predicted outputs\n",
    "            output = model(data)\n",
    "            \n",
    "            # Loss and backpropagation of gradients\n",
    "            loss = criterion(output, target)\n",
    "            loss.backward()\n",
    "\n",
    "            # Update the parameters\n",
    "            optimizer.step()\n",
    "         \n",
    "            # Multiply average loss by number of examples in a minibatch\n",
    "            metrics_dict['loss']['train'][-1] += loss.item() * len(target)\n",
    "\n",
    "            # Append target and output to lists\n",
    "            metrics_dict['target']['train'][-1] = np.append(metrics_dict['target']['train'][-1], target.data.cpu().numpy())\n",
    "            metrics_dict['output']['train'][-1] = np.vstack((metrics_dict['output']['train'][-1], output.data.cpu().numpy()))\n",
    "        \n",
    "            # Print training completion percentage\n",
    "            print(f'Epoch: {epoch+1}\\t{100 * (mini_batch_number + 1) / len(train_loader):6.2f}% complete ({str(datetime.timedelta(seconds=round(timer() - start)))})', end='\\r')\n",
    "                \n",
    "        ###################\n",
    "        # Validation loop #\n",
    "        ###################\n",
    "        \n",
    "        # Don't need to keep track of gradients\n",
    "        with torch.no_grad():\n",
    "\n",
    "            # Set to evaluation mode\n",
    "            model.eval()\n",
    "\n",
    "            for data, target in valid_loader:\n",
    "                                \n",
    "                # Predicted outputs\n",
    "                output = model(data)\n",
    "\n",
    "                # Validation loss\n",
    "                loss = criterion(output, target)\n",
    "                \n",
    "                # Multiply average loss by number of examples in a minibatch and add to metrics dictionary\n",
    "                metrics_dict['loss']['valid'][-1] += loss.item() * len(target)\n",
    "\n",
    "                # Append target and output to lists and add to metrics dictionary\n",
    "                metrics_dict['target']['valid'][-1] = np.append(metrics_dict['target']['valid'][-1], target)\n",
    "                metrics_dict['output']['valid'][-1] = np.vstack((metrics_dict['output']['valid'][-1], output))\n",
    "        \n",
    "        # Count epochs that model was trained for\n",
    "        model.epochs += 1\n",
    "        \n",
    "        #####################    \n",
    "        # Calculate metrics #\n",
    "        #####################\n",
    "        \n",
    "        # Loss over one epoch is the average of the loss over the entire dataset\n",
    "        metrics_dict['loss']['train'][-1] /= len(train_loader.dataset)\n",
    "        metrics_dict['loss']['valid'][-1] /= len(valid_loader.dataset)\n",
    "\n",
    "        # At the end of the validation, we can calculate metrics to be added to metrics dictionary \n",
    "        for mode in ['train', 'valid']:\n",
    "\n",
    "            # Add accuracy to the metrics dictionary       \n",
    "            pred = np.argmax(metrics_dict['output'][mode][-1], axis=1)       \n",
    "            target = metrics_dict['target'][mode][-1]\n",
    "            correct = (pred == target)\n",
    "            metrics_dict['accuracy'][mode][-1] = sum(correct) / len(correct)\n",
    "\n",
    "            # Add ROC AUC to the metrics dictionary\n",
    "            fpr, tpr, _ = roc_curve(metrics_dict['target'][mode][-1], \n",
    "                                    metrics_dict['output'][mode][-1][:, 1]) # select positive class\n",
    "            metrics_dict['roc_auc'][mode][-1] = auc(fpr, tpr)\n",
    "\n",
    "            # Add PR AUC to the metrics dictionary\n",
    "            pr_auc = average_precision_score(metrics_dict['target'][mode][-1], \n",
    "                                             metrics_dict['output'][mode][-1][:, 1]) # select positive class132 / 024\n",
    "            metrics_dict['pr_auc'][mode][-1] = pr_auc\n",
    "        \n",
    "        # Print emtrics\n",
    "        output_str = [f'\\n\\t\\tTraining loss: {metrics_dict[\"loss\"][\"train\"][-1]:.4f}\\t\\t\\tValidation loss: {metrics_dict[\"loss\"][\"valid\"][-1]:.4f}']\n",
    "        output_str.append(f'\\n\\t\\tTraining accuracy: {metrics_dict[\"accuracy\"][\"train\"][-1]:.4f}\\t\\tValidation accuracy: {metrics_dict[\"accuracy\"][\"valid\"][-1]:.4f}')\n",
    "        output_str.append(f'\\n\\t\\tTraining roc_auc: {metrics_dict[\"roc_auc\"][\"train\"][-1]:.4f}\\t\\tValidation roc_auc: {metrics_dict[\"roc_auc\"][\"valid\"][-1]:.4f}')\n",
    "        output_str.append(f'\\n\\t\\tTraining pr_auc: {metrics_dict[\"pr_auc\"][\"train\"][-1]:.4f}\\t\\t\\tValidation pr_auc: {metrics_dict[\"pr_auc\"][\"valid\"][-1]:.4f}')\n",
    "        \n",
    "        # Save the model if the validation loss decreases\n",
    "        if metrics_dict['loss']['valid'][-1] < valid_loss_min: # valid_loss_min is np.Inf for the first Epoch\n",
    "\n",
    "            # Save model\n",
    "            torch.save(model.state_dict(), save_file_name)\n",
    "            output_str.append(f'\\t\\tSaving...')\n",
    "\n",
    "            # Track improvement\n",
    "            epochs_no_improve = 0 # Reset tracker to 0, since the loss decreased\n",
    "            best_epoch = epoch\n",
    "\n",
    "            # Set the validation loss to the current validation loss\n",
    "            valid_loss_min = metrics_dict['loss']['valid'][-1]\n",
    "\n",
    "        # Otherwise increment count of epochs with no improvement\n",
    "        else:\n",
    "            epochs_no_improve += 1\n",
    "            \n",
    "            # Trigger early stopping\n",
    "            if epochs_no_improve >= max_epochs_stop:\n",
    "                early_stopping=True\n",
    "                break\n",
    "\n",
    "         # Print every n epochs (e.g. 2, print only even epochs)\n",
    "        if (model.epochs) % print_every == 0:\n",
    "            print(''.join(output_str)+'\\n')        \n",
    "\n",
    "    ########################\n",
    "    # Report final metrics #\n",
    "    ########################\n",
    "    \n",
    "    # Calculate time function took in total\n",
    "    total_time = round(timer() - overall_start)\n",
    "    total_time = str(datetime.timedelta(seconds=total_time))\n",
    "    \n",
    "                \n",
    "    # Load the best model\n",
    "    model.load_state_dict(torch.load(save_file_name))  \n",
    "    model.epochs = best_epoch + 1\n",
    "    \n",
    "    # Attach the optimizer\n",
    "    model.optimizer = optimizer\n",
    "\n",
    "    # Report final metrics\n",
    "    early_stopping_str = f'Early Stopping! ' if early_stopping else ''\n",
    "    output_str = [f'{early_stopping_str}Total epochs: {epoch+1} ({total_time}), Best epoch: {model.epochs}, with loss: {metrics_dict[\"loss\"][\"valid\"][model.epochs-1]:.4f}']\n",
    "    output_str.append(f'accuracy: {metrics_dict[\"accuracy\"][\"valid\"][model.epochs-1]:.4f}')\n",
    "    output_str.append(f'roc_auc: {metrics_dict[\"roc_auc\"][\"valid\"][model.epochs-1]:.4f}')\n",
    "    output_str.append(f'pr_auc: {metrics_dict[\"pr_auc\"][\"valid\"][model.epochs-1]:.4f}')\n",
    "    print(', '.join(output_str))\n",
    "\n",
    "    return model, metrics_dict"
   ]
  },
  {
   "cell_type": "markdown",
   "metadata": {},
   "source": [
    "Before we can do train the model, we have to first define a **loss function**, and an **optimizer**.\n",
    "As a loss function, we use the log loss (a.k.a the CrossEntropyLoss). This is the standard loss used for a binary prediction problem. The optimizer is the type of gradient descent algorithm that we use (Adam)."
   ]
  },
  {
   "cell_type": "code",
   "execution_count": 548,
   "metadata": {
    "scrolled": true
   },
   "outputs": [
    {
     "name": "stdout",
     "output_type": "stream",
     "text": [
      "Epoch: 1\t100.00% complete (0:00:02)\n",
      "\t\tTraining loss: 0.3461\t\t\tValidation loss: 0.3748\n",
      "\t\tTraining accuracy: 0.8743\t\tValidation accuracy: 0.8668\n",
      "\t\tTraining roc_auc: 0.7726\t\tValidation roc_auc: 0.7134\n",
      "\t\tTraining pr_auc: 0.5084\t\t\tValidation pr_auc: 0.4432\t\tSaving...\n",
      "\n",
      "Epoch: 2\t100.00% complete (0:00:02)\n",
      "\t\tTraining loss: 0.3453\t\t\tValidation loss: 0.3737\n",
      "\t\tTraining accuracy: 0.8743\t\tValidation accuracy: 0.8676\n",
      "\t\tTraining roc_auc: 0.7728\t\tValidation roc_auc: 0.7165\n",
      "\t\tTraining pr_auc: 0.5128\t\t\tValidation pr_auc: 0.4493\t\tSaving...\n",
      "\n",
      "Epoch: 3\t100.00% complete (0:00:02)\n",
      "\t\tTraining loss: 0.3440\t\t\tValidation loss: 0.3763\n",
      "\t\tTraining accuracy: 0.8732\t\tValidation accuracy: 0.8682\n",
      "\t\tTraining roc_auc: 0.7780\t\tValidation roc_auc: 0.7131\n",
      "\t\tTraining pr_auc: 0.5105\t\t\tValidation pr_auc: 0.4441\n",
      "\n",
      "Total epochs: 3 (0:00:06), Best epoch: 2, with loss: 0.3737, accuracy: 0.8676, roc_auc: 0.7165, pr_auc: 0.4493\n"
     ]
    }
   ],
   "source": [
    "criterion = nn.CrossEntropyLoss()\n",
    "\n",
    "# lr is the learning rate, low = slower but more accurate learning, high = faster but less accurate learning\n",
    "# 1e-3 is a good middle ground value\n",
    "optimizer = optim.Adam(model.parameters(), lr=1e-3)\n",
    "\n",
    "model.to(device)\n",
    "\n",
    "model, metrics_dict = train(\n",
    "    model,\n",
    "    criterion,\n",
    "    optimizer,\n",
    "    dataloaders['train'],\n",
    "    dataloaders['valid'],\n",
    "    save_file_name=f'delete_me.pt',\n",
    "    n_epochs=3,\n",
    "    max_epochs_stop=3)"
   ]
  },
  {
   "cell_type": "markdown",
   "metadata": {},
   "source": [
    "## 6. Visualize metrics"
   ]
  },
  {
   "cell_type": "markdown",
   "metadata": {},
   "source": [
    "Next, we use functions to visualize the output"
   ]
  },
  {
   "cell_type": "code",
   "execution_count": 549,
   "metadata": {},
   "outputs": [],
   "source": [
    "def plot_auc_roc(metrics_dict, epoch, mode=\"valid\"):\n",
    "    \n",
    "    assert mode in[\"train\", \"valid\"], 'mode must be \"train\" or \"valid\"'\n",
    "    \n",
    "    fig, ax = plt.subplots(1,1)\n",
    "    fpr, tpr, _ = roc_curve(metrics_dict['target'][mode][epoch-1],\n",
    "                            metrics_dict['output'][mode][epoch-1][:, 1]) # select positive class\n",
    "    \n",
    "    ax.plot(fpr, tpr, label=f'area = {metrics_dict[\"roc_auc\"][mode][epoch-1]:2.2f}')\n",
    "    ax.set_xlabel('False Positive Rate')\n",
    "    ax.set_ylabel('True Positive Rate')\n",
    "    ax.set_title(f'ROC curve')\n",
    "    ax.legend(loc='lower right')\n",
    "    print(ax)"
   ]
  },
  {
   "cell_type": "code",
   "execution_count": 550,
   "metadata": {},
   "outputs": [
    {
     "name": "stdout",
     "output_type": "stream",
     "text": [
      "AxesSubplot(0.125,0.125;0.775x0.755)\n"
     ]
    },
    {
     "data": {
      "image/png": "[encoded data removed]",
      "text/plain": [
       "<Figure size 432x288 with 1 Axes>"
      ]
     },
     "metadata": {
      "needs_background": "light"
     },
     "output_type": "display_data"
    }
   ],
   "source": [
    "plot_auc_roc(metrics_dict, epoch=1, mode=\"valid\")"
   ]
  },
  {
   "cell_type": "code",
   "execution_count": 475,
   "metadata": {},
   "outputs": [],
   "source": []
  },
  {
   "cell_type": "code",
   "execution_count": null,
   "metadata": {},
   "outputs": [],
   "source": []
  }
 ],
 "metadata": {
  "kernelspec": {
   "display_name": "Python 3",
   "language": "python",
   "name": "python3"
  },
  "language_info": {
   "codemirror_mode": {
    "name": "ipython",
    "version": 3
   },
   "file_extension": ".py",
   "mimetype": "text/x-python",
   "name": "python",
   "nbconvert_exporter": "python",
   "pygments_lexer": "ipython3",
   "version": "3.8.5"
  }
 },
 "nbformat": 4,
 "nbformat_minor": 4
}
