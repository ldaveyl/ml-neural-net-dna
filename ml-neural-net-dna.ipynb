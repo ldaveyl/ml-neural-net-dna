{
 "cells": [
  {
   "cell_type": "markdown",
   "metadata": {},
   "source": [
    "# Training and evaluating a fully connected neural network for DNA sequences"
   ]
  },
  {
   "cell_type": "markdown",
   "metadata": {},
   "source": [
    "## 1. Introduction"
   ]
  },
  {
   "cell_type": "markdown",
   "metadata": {},
   "source": [
    "In this repository, DNA sequences are used to build, train and evaluate a neural network in a jupyter notebook..\n",
    "The main use of this notebook is to demonstrate a typical workflow in PyTorch. More specifically:\n",
    "\n",
    "  - Loading a dataset\n",
    "  - Create a neural network\n",
    "  - Training a neural network\n",
    "  - Evaluating the neural network on unseen data\n",
    "  - Visualizing the performance\n",
    "    \n",
    "**Note:** To train the neural network on a GPU, a few adjustments have to be made to the code (mainly when converting from a PyTorch tensor to a numpy array)\n",
    "\n",
    "contact: lucas.davey@biscglobal.com"
   ]
  },
  {
   "cell_type": "markdown",
   "metadata": {},
   "source": [
    "## 2. Load data"
   ]
  },
  {
   "cell_type": "code",
   "execution_count": 1,
   "metadata": {},
   "outputs": [],
   "source": [
    "# Load Packages\n",
    "import pandas as pd\n",
    "import numpy as np\n",
    "import matplotlib.pyplot as plt\n",
    "from matplotlib.ticker import MaxNLocator\n",
    "import torch\n",
    "import torch.nn as nn\n",
    "import torch.nn.functional as F\n",
    "import torch.optim as optim\n",
    "from torch.autograd import Variable\n",
    "from torch.utils.data import Dataset, DataLoader\n",
    "from sklearn.model_selection import train_test_split\n",
    "from sklearn.metrics import auc, roc_curve, precision_recall_curve, average_precision_score\n",
    "from timeit import default_timer as timer\n",
    "import datetime\n",
    "\n",
    "# Specify what we will be working on 'cpu' or 'cuda' (GPU)\n",
    "device = torch.device('cpu')"
   ]
  },
  {
   "cell_type": "code",
   "execution_count": 2,
   "metadata": {},
   "outputs": [],
   "source": [
    "# Load data\n",
    "my_dataset = pd.read_csv(\"dna_sequence_dataset.csv\")\n",
    "\n",
    "# Specificy data (X) and targets (y), since this is an example, we only use the first 50000 samples, decrease\n",
    "# this number if training goes too slowly\n",
    "X = my_dataset[\"dna_sequence\"][:50000]\n",
    "y = my_dataset[\"target\"][:50000]"
   ]
  },
  {
   "cell_type": "markdown",
   "metadata": {},
   "source": [
    "The dataset consists of DNA sequences with a binary target (0 or 1)"
   ]
  },
  {
   "cell_type": "code",
   "execution_count": 3,
   "metadata": {},
   "outputs": [
    {
     "data": {
      "text/plain": [
       "0    AAAAAAAAAATA\n",
       "1    AAAAAAAAAGAG\n",
       "2    AAAAAAAAATCA\n",
       "3    AAAAAAAAATTC\n",
       "4    AAAAAAAACAAA\n",
       "Name: dna_sequence, dtype: object"
      ]
     },
     "execution_count": 3,
     "metadata": {},
     "output_type": "execute_result"
    }
   ],
   "source": [
    "X.head()"
   ]
  },
  {
   "cell_type": "code",
   "execution_count": 4,
   "metadata": {},
   "outputs": [
    {
     "data": {
      "text/plain": [
       "0    0\n",
       "1    0\n",
       "2    0\n",
       "3    0\n",
       "4    0\n",
       "Name: target, dtype: int64"
      ]
     },
     "execution_count": 4,
     "metadata": {},
     "output_type": "execute_result"
    }
   ],
   "source": [
    "y.head()"
   ]
  },
  {
   "cell_type": "markdown",
   "metadata": {},
   "source": [
    "## 3. Create Dataset and DataLoader object"
   ]
  },
  {
   "cell_type": "markdown",
   "metadata": {},
   "source": [
    "Before we can train our neural net, we need to split our dataset into a **training**, **validation** and **testing** set.\n",
    "\n",
    " - The training set is used to train our model (70% of dataset)\n",
    " - The validation set is used to determine the number of epochs that the model is trained for (10% of dataset)\n",
    " - The testing set is used to assess the model's performance on unseen data. (20% of dataset)\n",
    " \n",
    "These percentages are not set in stone, but as a rule of thumb, we want to reserve most of the data for training.\n",
    "\n",
    "The **Dataset_fcANN** class is a custom class that defines the data and target values (We will call this a sample from now on). \n",
    "This class has to be a child class from PyTorch's basic Dataset class and it should overwrite at least \n",
    "the **init**, **len** and **getitem** methods.\n",
    "\n",
    "In this case, our custom dataset class simply converts the input DNA sequence into a binary matrix using the function **one_hot_sequence**, this matrix is then flattened and converted into a tensor (a multi-dimensional vector), and finally it is moved to the device (CPU or GPU)."
   ]
  },
  {
   "cell_type": "code",
   "execution_count": 5,
   "metadata": {},
   "outputs": [],
   "source": [
    "def one_hot_sequence(seq):\n",
    "    \"\"\"Convert a DNA sequence into a binary matrix.\n",
    "       \n",
    "    Args:\n",
    "        seq (str): input DNA sequence\n",
    "\n",
    "    Returns:\n",
    "        m (numpy array): binary matrix\n",
    "\n",
    "    \"\"\"\n",
    "    d = {'A': 0, 'C': 1, 'G': 2, 'T': 3}\n",
    "    length = len(seq)\n",
    "    m = np.zeros((4, length), dtype='float32')\n",
    "    for i, b in enumerate(seq):\n",
    "        m[d[b]][i] = 1   \n",
    "    return m"
   ]
  },
  {
   "cell_type": "code",
   "execution_count": 6,
   "metadata": {},
   "outputs": [],
   "source": [
    "class Dataset_fcANN(Dataset):\n",
    "    def __init__(self, X, y):\n",
    "        \"Initialization\"\n",
    "        self.X = X\n",
    "        self.y = y\n",
    "    \n",
    "    def __len__(self):\n",
    "        \"Denotes the total number of samples\"\n",
    "        return len(self.X)\n",
    "\n",
    "    def __getitem__(self, idx):\n",
    "        \"Generates one data and target pair\"\n",
    "        # Select DNA sequence at the position in the dataset specified by idx\n",
    "        data = self.X.iloc[idx]\n",
    "        \n",
    "        # Convert the DNA sequence into a binary matrix\n",
    "        data = one_hot_sequence(data)\n",
    "        \n",
    "        # Flatten the binary matrix and convert the numpy array into a PyTorch tensor\n",
    "        data = torch.from_numpy(data.flatten())\n",
    "            \n",
    "        # Move the tensor to the device, depending on the loss function that you are using,\n",
    "        # you may want to change the datatype \n",
    "        data = data.to(device, dtype=torch.float32)\n",
    "        \n",
    "        # Select the target value at the position in the dataset specified by idx, and convert into a numpy array\n",
    "        target = np.array(self.y.iloc[idx])\n",
    "        \n",
    "        # Convert the numpy array into a PyTorch tensor\n",
    "        target = torch.from_numpy(target)\n",
    "        \n",
    "        # Move the tensor to the device\n",
    "        target = target.to(device, dtype=torch.long)\n",
    "        \n",
    "        # Return data and target tensors as a tuple\n",
    "        return data, target"
   ]
  },
  {
   "cell_type": "markdown",
   "metadata": {},
   "source": [
    "The **DataLoader** class defines how the samples are read by the neural network. We set the mini-batch size to 100, and we also set drop_last to True. drop_last ensures that if the last mini-batch of a dataset contains just 1 samples (i.e. number of samples % number of mini-batches = 1), then this data value is dropped so that no errors occur. I could calculate if it is necessary to do this for our example dataset, but since we have so many samples (), we can afford to drop one.\n",
    "\n",
    "We enable shuffle to ensure that there is no bias in the data before we make a split, and stratify is used to make sure that the distribution of our target values (0 and 1) is the same for each split (training, validation and testing)."
   ]
  },
  {
   "cell_type": "code",
   "execution_count": 7,
   "metadata": {},
   "outputs": [],
   "source": [
    "# Create testing set\n",
    "X_train_val, X_test, y_train_val, y_test = train_test_split(X, y, train_size=0.8, test_size=0.2, shuffle=True, stratify=y)\n",
    "\n",
    "# Create training and validation set (7/8th of 80% = 70%, and 1/8th of 80% = 10%)\n",
    "X_train, X_val, y_train, y_val = train_test_split(X_train_val, y_train_val, train_size=7/8, test_size=1/8, shuffle=True, stratify=y_train_val)\n",
    "\n",
    "# Create dictionary with datasets for training, validation and testing set\n",
    "datasets = {\n",
    "    \"train\": Dataset_fcANN(X_train, y_train),\n",
    "    \"valid\": Dataset_fcANN(X_val, y_val),\n",
    "    \"test\": Dataset_fcANN(X_test, y_test)\n",
    "}\n",
    "\n",
    "# Set mini-batch size parameter\n",
    "batch_size = 100\n",
    "\n",
    "# Create dictionary with dataloaders for training, validation and testing set\n",
    "dataloaders = {\n",
    "    \"train\": DataLoader(datasets[\"train\"], batch_size=batch_size, shuffle=True, drop_last=True),\n",
    "    \"valid\": DataLoader(datasets[\"valid\"], batch_size=batch_size, shuffle=True, drop_last=True),\n",
    "    \"test\": DataLoader(datasets[\"test\"], batch_size=batch_size, shuffle=True, drop_last=True)\n",
    "}"
   ]
  },
  {
   "cell_type": "markdown",
   "metadata": {},
   "source": [
    "## 4. Create fully-connect Artificial Neural Network"
   ]
  },
  {
   "cell_type": "markdown",
   "metadata": {},
   "source": [
    "Next, we define the most important part of this notebook: the fully-connected artificial neural network. This neural network includes 1 input layer, 1 hidden layer, 1 output layer, and 2 batch normalization layers.\n",
    "The output layer consists of 2 output nodes: one for each possible target value (0 or 1).\n",
    "\n",
    "This neural network is encoded by the **fcANN** class, which is a child class from PyTorch's nn.Module class, and it has to define a **forward** method. This method describes one forward pass of a data value through the neural network."
   ]
  },
  {
   "cell_type": "code",
   "execution_count": 8,
   "metadata": {},
   "outputs": [],
   "source": [
    "class fcANN(nn.Module):\n",
    "    def __init__(self, in_size=48, hidden_size=192, out_size=2, dropoutp=0.2, epochs=0):\n",
    "        super(fcANN, self).__init__()\n",
    "        \n",
    "        # Define layers\n",
    "        self.fc1 = nn.Linear(in_size, hidden_size)\n",
    "        self.bn = nn.BatchNorm1d(hidden_size)\n",
    "        self.dropout = nn.Dropout(p=dropoutp)\n",
    "        self.fc2 = nn.Linear(hidden_size, out_size)\n",
    "        \n",
    "        # Define number of epochs that the model has been trained for\n",
    "        self.epochs = epochs\n",
    "\n",
    "    def forward(self, x):\n",
    "        x = self.dropout(F.relu(self.bn(self.fc1(x))))\n",
    "        out = self.fc2(x)\n",
    "        return out"
   ]
  },
  {
   "cell_type": "markdown",
   "metadata": {},
   "source": [
    "## 5. Train neural network"
   ]
  },
  {
   "cell_type": "markdown",
   "metadata": {},
   "source": [
    "To train the neural network, we use the custom **train** function. This function trains the neural network using the data in the dataloader dictionary that we created earlier. \n",
    "The neural network will be trained unless the loss doesnt decrease for max_epochs_stop consecutive epochs. In this case, the model will stop training (early stopping), and load the model with the lowest loss. \n",
    "\n",
    " - To train the model so that it is guaranteed to have the lowest loss, the n_epochs should be high, and the max_epochs_stop low.\n",
    "\n",
    " - To train the model for a set amount of epochs, regardless if the final model has the lowest loss, the max_epochs_stop should be high.\n",
    " \n",
    "**Note:** Everytime the validation loss decreases, the state dictionary of the model is saved to a file (save_file_name). Therefore, the state of the model with the lowest loss can always be retrieved from this file using (see [saving and loading models](https://pytorch.org/tutorials/beginner/saving_loading_models.html)).\n",
    " \n",
    "**Note:** This specific function only works on a neural network for a binary classification problem.\n",
    "More specifically, the neural network needs to have two output nodes (one for each value of the target), and the criterion should be the [nn.CrossEntropyLoss()](https://pytorch.org/docs/stable/generated/torch.nn.CrossEntropyLoss.html?highlight=crossentropy#torch.nn.CrossEntropyLoss).\n",
    "\n",
    "**Note:** To reduce the output that is shown for each Epoch, you can comment lines 166, 167 or 168.\n",
    "\n",
    "**Note:** Rerunning this function on the same model will result in a model that is trained more than once, eventhough it may seem as though it has been trained only once. This is because model.epochs is set to 0 before training, but the model weights are not reset.\n"
   ]
  },
  {
   "cell_type": "code",
   "execution_count": 9,
   "metadata": {},
   "outputs": [],
   "source": [
    "def train(model,\n",
    "          criterion,\n",
    "          optimizer,\n",
    "          train_loader,\n",
    "          valid_loader,\n",
    "          save_file_name,\n",
    "          max_epochs_stop=3,\n",
    "          n_epochs=20,\n",
    "          print_every=1):\n",
    "    \"\"\"Train a PyTorch neural network\n",
    "    \n",
    "       The model will be trained for n_epochs unless the the loss doesn't decrease for max_epochs_stop\n",
    "       consecutive epochs. In that case, the training will be stopped early.\n",
    "              \n",
    "       This function is inspired by this notebook:\n",
    "       https://github.com/WillKoehrsen/pytorch_challenge/blob/master/Transfer%20Learning%20in%20PyTorch.ipynb\n",
    "\n",
    "    Args:\n",
    "        model (PyTorch model): neural network to train\n",
    "        criterion (PyTorch loss): objective to minimize\n",
    "        optimizer (PyTorch optimizier): optimizer to compute gradients of model parameters\n",
    "        train_loader (PyTorch dataloader): training dataloader to iterate through\n",
    "        valid_loader (PyTorch dataloader): validation dataloader used for early stopping\n",
    "        save_file_name (str ending in '.pt'): file path to save the model state dict\n",
    "        max_epochs_stop (int): maximum number of consecutive epochs with no improvement in validation loss\n",
    "        n_epochs (int): maximum number of training epochs\n",
    "        print_every (int): frequency of epochs to print training stats\n",
    "\n",
    "    Returns:\n",
    "        model (PyTorch model): trained neural network\n",
    "        metrics_dict (dict): dictionary containing all metrics that were tracked during training\n",
    "        \n",
    "    \"\"\"\n",
    "    ########################\n",
    "    # Initialize variables #\n",
    "    ######################## \n",
    "    \n",
    "    # start timer\n",
    "    overall_start = timer()\n",
    "    \n",
    "    # Set number of epochs that the model was trained for to 0\n",
    "    model.epochs = 0\n",
    "    \n",
    "    # Initialize variable for tracking how many times that \n",
    "    # the loss has not lowered after one epoch of training\n",
    "    epochs_no_improve = 0\n",
    "    \n",
    "    # Initialize variable for tracking the validation loss\n",
    "    # We set this variable to +Infinity so that the first time that the model is trained, \n",
    "    # it will always be lower, and thus continue training\n",
    "    valid_loss_min = np.Inf\n",
    "    \n",
    "    # Initialize variable for tracking if the training was stopped early\n",
    "    early_stopping = False\n",
    "    \n",
    "    # Initialize dictionary for tracking different metrics\n",
    "    # This dictionary should contain at least a \"loss\", \"target\", and \"output\" key\n",
    "    metrics_dict = {'loss': {'train': [], 'valid': []},\n",
    "                    'target': {'train': [], 'valid': []}, \n",
    "                    'output': {'train': [], 'valid': []},\n",
    "                    'accuracy': {'train': [], 'valid': []},\n",
    "                    'roc_auc': {'train': [], 'valid': []},\n",
    "                    'pr_auc': {'train': [], 'valid': []}}\n",
    "           \n",
    "    for epoch in range(n_epochs):\n",
    "                   \n",
    "        # Initialize metrics to record a new epoch\n",
    "        # We do this for both the training set and the validation set\n",
    "        for mode in ['train', 'valid']:\n",
    "            metrics_dict['loss'][mode].append(0)\n",
    "            # Value is 2, because we have 2 nodes in the output layer (output is numpy array with length 2)\n",
    "            metrics_dict['output'][mode].append(np.empty((0, 2))) \n",
    "            metrics_dict['target'][mode].append([])\n",
    "            metrics_dict['accuracy'][mode].append([])\n",
    "            metrics_dict['roc_auc'][mode].append([])\n",
    "            metrics_dict['pr_auc'][mode].append([])\n",
    "\n",
    "        # Set model to training\n",
    "        model.train()\n",
    "        start = timer()\n",
    "        \n",
    "        #################\n",
    "        # Training loop #\n",
    "        #################\n",
    "\n",
    "        for mini_batch_number, (data, target) in enumerate(train_loader):\n",
    "\n",
    "            # Clear gradients\n",
    "            optimizer.zero_grad()\n",
    "            \n",
    "            # Predicted outputs\n",
    "            output = model(data)\n",
    "            \n",
    "            # Loss and backpropagation of gradients\n",
    "            loss = criterion(output, target)\n",
    "            loss.backward()\n",
    "\n",
    "            # Update the parameters\n",
    "            optimizer.step()\n",
    "         \n",
    "            # Multiply loss by number of examples in a minibatch\n",
    "            metrics_dict['loss']['train'][-1] += loss.item() * len(target)\n",
    "\n",
    "            # Append target and output to lists\n",
    "            metrics_dict['target']['train'][-1] = np.append(metrics_dict['target']['train'][-1], target.data.cpu().numpy())\n",
    "            metrics_dict['output']['train'][-1] = np.vstack((metrics_dict['output']['train'][-1], output.data.cpu().numpy()))\n",
    "        \n",
    "            # Print training completion percentage\n",
    "            print(f'Epoch: {epoch+1}\\t{100 * (mini_batch_number + 1) / len(train_loader):6.2f}% complete ({str(datetime.timedelta(seconds=round(timer() - start)))})', end='\\r')\n",
    "                \n",
    "        ###################\n",
    "        # Validation loop #\n",
    "        ###################\n",
    "        \n",
    "        # Don't need to keep track of gradients\n",
    "        with torch.no_grad():\n",
    "\n",
    "            # Set to evaluation mode\n",
    "            model.eval()\n",
    "\n",
    "            for data, target in valid_loader:\n",
    "                                \n",
    "                # Predicted outputs\n",
    "                output = model(data)\n",
    "\n",
    "                # Validation loss\n",
    "                loss = criterion(output, target)\n",
    "                \n",
    "                # Multiply loss by number of examples in a minibatch and add to metrics dictionary\n",
    "                metrics_dict['loss']['valid'][-1] += loss.item() * len(target)\n",
    "\n",
    "                # Append target and output to lists and add to metrics dictionary\n",
    "                metrics_dict['target']['valid'][-1] = np.append(metrics_dict['target']['valid'][-1], target)\n",
    "                metrics_dict['output']['valid'][-1] = np.vstack((metrics_dict['output']['valid'][-1], output))\n",
    "        \n",
    "        # Count epochs that model was trained for\n",
    "        model.epochs += 1\n",
    "        \n",
    "        #####################    \n",
    "        # Calculate metrics #\n",
    "        #####################\n",
    "        \n",
    "        # Loss over one epoch is the average of the loss over the entire dataset\n",
    "        metrics_dict['loss']['train'][-1] /= len(train_loader.dataset)\n",
    "        metrics_dict['loss']['valid'][-1] /= len(valid_loader.dataset)\n",
    "\n",
    "        # At the end of the validation loop, we can calculate metrics to be added to metrics dictionary \n",
    "        for mode in ['train', 'valid']:\n",
    "\n",
    "            # Add accuracy to the metrics dictionary       \n",
    "            pred = np.argmax(metrics_dict['output'][mode][-1], axis=1) # Convert output probability to 0 or 1\n",
    "            target = metrics_dict['target'][mode][-1]\n",
    "            correct = (pred == target)\n",
    "            metrics_dict['accuracy'][mode][-1] = sum(correct) / len(correct)\n",
    "\n",
    "            # Add ROC AUC to the metrics dictionary\n",
    "            fpr, tpr, _ = roc_curve(metrics_dict['target'][mode][-1], \n",
    "                                    metrics_dict['output'][mode][-1][:, 1]) # select positive class\n",
    "            metrics_dict['roc_auc'][mode][-1] = auc(fpr, tpr)\n",
    "\n",
    "            # Add PR AUC to the metrics dictionary\n",
    "            pr_auc = average_precision_score(metrics_dict['target'][mode][-1], \n",
    "                                             metrics_dict['output'][mode][-1][:, 1]) # select positive class\n",
    "            metrics_dict['pr_auc'][mode][-1] = pr_auc\n",
    "        \n",
    "        # Print metrics\n",
    "        output_str = [f'\\n\\t\\tTraining loss: {metrics_dict[\"loss\"][\"train\"][-1]:.4f}\\t\\t\\tValidation loss: {metrics_dict[\"loss\"][\"valid\"][-1]:.4f}']\n",
    "        \n",
    "        # Print every n epochs (e.g. 2, print only even epochs)\n",
    "        if (model.epochs) % print_every == 0:\n",
    "            print(''.join(output_str)+'\\n') \n",
    "        \n",
    "        # If validation loss decreases, save model and go to next epoch\n",
    "        if metrics_dict['loss']['valid'][-1] < valid_loss_min: # valid_loss_min is np.Inf for the first Epoch\n",
    "\n",
    "            # Save model\n",
    "            torch.save(model.state_dict(), save_file_name)\n",
    "\n",
    "            # Track improvement\n",
    "            epochs_no_improve = 0 # Reset tracker to 0 since the loss decreased\n",
    "            best_epoch = epoch\n",
    "\n",
    "            # Set the validation loss to the current validation loss\n",
    "            valid_loss_min = metrics_dict['loss']['valid'][-1]\n",
    "\n",
    "        # If validation loss increases, increment count of epochs with no improvement\n",
    "        else:\n",
    "            epochs_no_improve += 1\n",
    "            \n",
    "            # Trigger early stopping\n",
    "            if epochs_no_improve >= max_epochs_stop:\n",
    "                \n",
    "                # Load the best model\n",
    "                model.load_state_dict(torch.load(save_file_name))  \n",
    "                model.epochs = best_epoch + 1\n",
    "    \n",
    "                early_stopping = True\n",
    "        \n",
    "                break   \n",
    "\n",
    "    ########################\n",
    "    # Report final metrics #\n",
    "    ########################\n",
    "    \n",
    "    # Calculate time function took in total\n",
    "    total_time = round(timer() - overall_start)\n",
    "    total_time = str(datetime.timedelta(seconds=total_time))\n",
    "\n",
    "    # Attach the optimizer\n",
    "    model.optimizer = optimizer\n",
    "\n",
    "    # Report final metrics\n",
    "    if early_stopping:\n",
    "        early_stopping_str = f'Early Stopping! Epochs trained: {model.epochs} ' \n",
    "    else:\n",
    "        early_stopping_str = f'Epochs trained: {model.epochs} '  \n",
    "    \n",
    "    output_str = [f'{early_stopping_str}({total_time}), Best epoch: {best_epoch + 1}, with loss: {metrics_dict[\"loss\"][\"valid\"][model.epochs-1]:.4f}']\n",
    "    output_str.append(f'accuracy: {metrics_dict[\"accuracy\"][\"valid\"][model.epochs-1]:.4f}')\n",
    "    output_str.append(f'roc_auc: {metrics_dict[\"roc_auc\"][\"valid\"][model.epochs-1]:.4f}')\n",
    "    output_str.append(f'pr_auc: {metrics_dict[\"pr_auc\"][\"valid\"][model.epochs-1]:.4f}')\n",
    "    print(', '.join(output_str))\n",
    "\n",
    "    return model, metrics_dict"
   ]
  },
  {
   "cell_type": "markdown",
   "metadata": {},
   "source": [
    "Before we can train the model, we have to first define a **loss function**, and an **optimizer**.\n",
    "As a loss function, we use the the CrossEntropyLoss. The optimizer is the type of gradient descent algorithm that we use (Adam is currently the best)."
   ]
  },
  {
   "cell_type": "code",
   "execution_count": 10,
   "metadata": {},
   "outputs": [
    {
     "data": {
      "text/plain": [
       "fcANN(\n",
       "  (fc1): Linear(in_features=48, out_features=192, bias=True)\n",
       "  (bn): BatchNorm1d(192, eps=1e-05, momentum=0.1, affine=True, track_running_stats=True)\n",
       "  (dropout): Dropout(p=0.2, inplace=False)\n",
       "  (fc2): Linear(in_features=192, out_features=2, bias=True)\n",
       ")"
      ]
     },
     "execution_count": 10,
     "metadata": {},
     "output_type": "execute_result"
    }
   ],
   "source": [
    "# Define model using default parameters\n",
    "model = fcANN() \n",
    "\n",
    "criterion = nn.CrossEntropyLoss()\n",
    "\n",
    "# lr is the learning rate, low = slower but more accurate learning, high = faster but less accurate learning\n",
    "# 1e-3 is a good middle ground value\n",
    "optimizer = optim.Adam(model.parameters(), lr=1e-3)\n",
    "\n",
    "# Move model to cpu or gpu\n",
    "model.to(device)"
   ]
  },
  {
   "cell_type": "code",
   "execution_count": 11,
   "metadata": {
    "scrolled": true
   },
   "outputs": [
    {
     "name": "stderr",
     "output_type": "stream",
     "text": [
      "/home/ldavey/miniconda3/envs/ml/lib/python3.8/site-packages/torch/autograd/__init__.py:130: UserWarning: CUDA initialization: The NVIDIA driver on your system is too old (found version 6050). Please update your GPU driver by downloading and installing a new version from the URL: http://www.nvidia.com/Download/index.aspx Alternatively, go to: https://pytorch.org to install a PyTorch version that has been compiled with your version of the CUDA driver. (Triggered internally at  /opt/conda/conda-bld/pytorch_1603729062494/work/c10/cuda/CUDAFunctions.cpp:100.)\n",
      "  Variable._execution_engine.run_backward(\n"
     ]
    },
    {
     "name": "stdout",
     "output_type": "stream",
     "text": [
      "Epoch: 1\t100.00% complete (0:00:02)\n",
      "\t\tTraining loss: 0.4141\t\t\tValidation loss: 0.3863\n",
      "\n",
      "Epoch: 2\t100.00% complete (0:00:02)\n",
      "\t\tTraining loss: 0.3897\t\t\tValidation loss: 0.3781\n",
      "\n",
      "Epoch: 3\t100.00% complete (0:00:02)\n",
      "\t\tTraining loss: 0.3823\t\t\tValidation loss: 0.3795\n",
      "\n",
      "Epoch: 4\t100.00% complete (0:00:02)\n",
      "\t\tTraining loss: 0.3792\t\t\tValidation loss: 0.3763\n",
      "\n",
      "Epoch: 5\t100.00% complete (0:00:02)\n",
      "\t\tTraining loss: 0.3761\t\t\tValidation loss: 0.3761\n",
      "\n",
      "Epoch: 6\t100.00% complete (0:00:02)\n",
      "\t\tTraining loss: 0.3753\t\t\tValidation loss: 0.3741\n",
      "\n",
      "Epoch: 7\t100.00% complete (0:00:02)\n",
      "\t\tTraining loss: 0.3735\t\t\tValidation loss: 0.3732\n",
      "\n",
      "Epoch: 8\t100.00% complete (0:00:02)\n",
      "\t\tTraining loss: 0.3712\t\t\tValidation loss: 0.3748\n",
      "\n",
      "Epoch: 9\t100.00% complete (0:00:02)\n",
      "\t\tTraining loss: 0.3692\t\t\tValidation loss: 0.3738\n",
      "\n",
      "Early Stopping! Epochs trained: 7 (0:00:21), Best epoch: 7, with loss: 0.3732, accuracy: 0.8636, roc_auc: 0.7173, pr_auc: 0.4312\n"
     ]
    }
   ],
   "source": [
    "model, metrics_dict = train(\n",
    "    model,\n",
    "    criterion,\n",
    "    optimizer,\n",
    "    dataloaders['train'],\n",
    "    dataloaders['valid'],\n",
    "    save_file_name=f'delete_me.pt',\n",
    "    n_epochs=20,\n",
    "    max_epochs_stop=2,\n",
    "    print_every=1)"
   ]
  },
  {
   "cell_type": "markdown",
   "metadata": {},
   "source": [
    "## 6. Visualize metrics"
   ]
  },
  {
   "cell_type": "markdown",
   "metadata": {},
   "source": [
    "Next, we visualize the output using the metrics dictionary. The first function, is a function used to plot the progression of the"
   ]
  },
  {
   "cell_type": "code",
   "execution_count": 12,
   "metadata": {},
   "outputs": [],
   "source": [
    "def plot_metric_per_epoch(metrics_dict, metric, model_epochs):\n",
    "    \"\"\"Plot training and validation metric per epoch using the metrics dictionary\n",
    "    Args:\n",
    "        metrics_dict (dict): dictionary containing all metrics that were tracked during training\n",
    "\n",
    "    Returns:\n",
    "        ax (matplotlib.axes object): plot showing metric per epoch\n",
    "        \n",
    "    \"\"\"  \n",
    "    assert metric in metrics_dict.keys()\n",
    "    \n",
    "    fig, ax = plt.subplots(1,1)\n",
    "    for mode in ['train', 'valid']:\n",
    "        ax.plot(range(1, len(metrics_dict[metric][mode]) + 1), metrics_dict[metric][mode], label=mode)\n",
    "    ax.xaxis.set_major_locator(MaxNLocator(integer=True))\n",
    "    ax.set_xlabel('Epochs')\n",
    "    ax.set_ylabel(metric.capitalize())\n",
    "    ax.set_title(f'Training and Validation {metric}')\n",
    "    ax.axvline(model_epochs, linestyle='--', color='red', label='model epochs')\n",
    "    ax.legend()\n",
    "    return ax"
   ]
  },
  {
   "cell_type": "code",
   "execution_count": 13,
   "metadata": {},
   "outputs": [
    {
     "data": {
      "text/plain": [
       "<AxesSubplot:title={'center':'Training and Validation loss'}, xlabel='Epochs', ylabel='Loss'>"
      ]
     },
     "execution_count": 13,
     "metadata": {},
     "output_type": "execute_result"
    },
    {
     "data": {
      "image/png": "[encoded data removed]",
      "text/plain": [
       "<Figure size 432x288 with 1 Axes>"
      ]
     },
     "metadata": {
      "needs_background": "light"
     },
     "output_type": "display_data"
    }
   ],
   "source": [
    "plot_metric_per_epoch(metrics_dict, 'loss', model.epochs)"
   ]
  },
  {
   "cell_type": "code",
   "execution_count": 14,
   "metadata": {},
   "outputs": [
    {
     "data": {
      "text/plain": [
       "<AxesSubplot:title={'center':'Training and Validation accuracy'}, xlabel='Epochs', ylabel='Accuracy'>"
      ]
     },
     "execution_count": 14,
     "metadata": {},
     "output_type": "execute_result"
    },
    {
     "data": {
      "image/png": "[encoded data removed]",
      "text/plain": [
       "<Figure size 432x288 with 1 Axes>"
      ]
     },
     "metadata": {
      "needs_background": "light"
     },
     "output_type": "display_data"
    }
   ],
   "source": [
    "plot_metric_per_epoch(metrics_dict, 'accuracy', model.epochs)"
   ]
  },
  {
   "cell_type": "code",
   "execution_count": 15,
   "metadata": {},
   "outputs": [
    {
     "data": {
      "text/plain": [
       "<AxesSubplot:title={'center':'Training and Validation roc_auc'}, xlabel='Epochs', ylabel='Roc_auc'>"
      ]
     },
     "execution_count": 15,
     "metadata": {},
     "output_type": "execute_result"
    },
    {
     "data": {
      "image/png": "[encoded data removed]",
      "text/plain": [
       "<Figure size 432x288 with 1 Axes>"
      ]
     },
     "metadata": {
      "needs_background": "light"
     },
     "output_type": "display_data"
    }
   ],
   "source": [
    "plot_metric_per_epoch(metrics_dict, 'roc_auc', model.epochs)"
   ]
  },
  {
   "cell_type": "code",
   "execution_count": 16,
   "metadata": {},
   "outputs": [
    {
     "data": {
      "text/plain": [
       "<AxesSubplot:title={'center':'Training and Validation pr_auc'}, xlabel='Epochs', ylabel='Pr_auc'>"
      ]
     },
     "execution_count": 16,
     "metadata": {},
     "output_type": "execute_result"
    },
    {
     "data": {
      "image/png": "[encoded data removed]",
      "text/plain": [
       "<Figure size 432x288 with 1 Axes>"
      ]
     },
     "metadata": {
      "needs_background": "light"
     },
     "output_type": "display_data"
    }
   ],
   "source": [
    "plot_metric_per_epoch(metrics_dict, 'pr_auc', model.epochs)"
   ]
  },
  {
   "cell_type": "code",
   "execution_count": 17,
   "metadata": {},
   "outputs": [],
   "source": [
    "def plot_roc_curve(metrics_dict, epoch, mode):\n",
    "    \"\"\"Plot receiver operator characteristic curve using the metrics dictionary\n",
    "    Args:\n",
    "        metrics_dict (dict): dictionary containing all metrics that were tracked during training\n",
    "\n",
    "    Returns:\n",
    "        ax (matplotlib.axes object): plot showing receiver operator characteristic curve\n",
    "        \n",
    "    \"\"\"\n",
    "    assert mode in [\"train\", \"valid\", \"test\"], 'mode must be \"train\", \"valid\" or \"test\"'\n",
    "    \n",
    "    fig, ax = plt.subplots(1,1)\n",
    "    fpr, tpr, _ = roc_curve(metrics_dict['target'][mode][epoch-1],\n",
    "                            metrics_dict['output'][mode][epoch-1][:, 1]) # select positive class\n",
    "    ax.plot(fpr, tpr, label=f'AUC = {metrics_dict[\"roc_auc\"][mode][epoch-1]:2.2f}')\n",
    "    ax.set_xlabel('False Positive Rate')\n",
    "    ax.set_ylabel('True Positive Rate')\n",
    "    ax.set_title(f'ROC curve')\n",
    "    ax.legend()\n",
    "    return ax"
   ]
  },
  {
   "cell_type": "code",
   "execution_count": 18,
   "metadata": {},
   "outputs": [
    {
     "data": {
      "text/plain": [
       "<AxesSubplot:title={'center':'ROC curve'}, xlabel='False Positive Rate', ylabel='True Positive Rate'>"
      ]
     },
     "execution_count": 18,
     "metadata": {},
     "output_type": "execute_result"
    },
    {
     "data": {
      "image/png": "[encoded data removed]",
      "text/plain": [
       "<Figure size 432x288 with 1 Axes>"
      ]
     },
     "metadata": {
      "needs_background": "light"
     },
     "output_type": "display_data"
    }
   ],
   "source": [
    "plot_roc_curve(metrics_dict, epoch=1, mode=\"valid\")"
   ]
  },
  {
   "cell_type": "code",
   "execution_count": 19,
   "metadata": {},
   "outputs": [],
   "source": [
    "def plot_pr_curve(metrics_dict, epoch=1, mode=\"valid\"):\n",
    "    \"\"\"Plot precision recall using the metrics dictionary\n",
    "\n",
    "    Args:\n",
    "        metrics_dict (dict): dictionary containing all metrics that were tracked during training\n",
    "        epoch (int): epoch to plot\n",
    "        mode (str): 'valid' or 'train'\n",
    "\n",
    "    Returns:\n",
    "        ax (matplotlib.axes object): plot showing precision recall curve\n",
    "        \n",
    "    \"\"\"\n",
    "    assert mode in [\"train\", \"valid\", \"test\"], 'mode must be \"train\", \"valid\" or \"test\"'  \n",
    "    \n",
    "    fig, ax = plt.subplots(1,1)\n",
    "    precision, recall, _ = precision_recall_curve(metrics_dict['target'][mode][epoch-1],\n",
    "                                                  metrics_dict['output'][mode][epoch-1][:, 1]) # select positive class\n",
    "    ax.step(precision, recall, label=f'AUC = {metrics_dict[\"pr_auc\"][mode][epoch-1]:2.2f}')\n",
    "    ax.set_xlabel('Recall')\n",
    "    ax.set_ylabel('Precision')\n",
    "    ax.set_title(f'PR curve')\n",
    "    ax.legend()\n",
    "    return ax"
   ]
  },
  {
   "cell_type": "code",
   "execution_count": 20,
   "metadata": {},
   "outputs": [
    {
     "data": {
      "text/plain": [
       "<AxesSubplot:title={'center':'PR curve'}, xlabel='Recall', ylabel='Precision'>"
      ]
     },
     "execution_count": 20,
     "metadata": {},
     "output_type": "execute_result"
    },
    {
     "data": {
      "image/png": "[encoded data removed]",
      "text/plain": [
       "<Figure size 432x288 with 1 Axes>"
      ]
     },
     "metadata": {
      "needs_background": "light"
     },
     "output_type": "display_data"
    }
   ],
   "source": [
    "plot_pr_curve(metrics_dict, epoch=1, mode=\"valid\")"
   ]
  },
  {
   "cell_type": "code",
   "execution_count": 21,
   "metadata": {},
   "outputs": [],
   "source": [
    "def history_df(metrics_dict):\n",
    "    \"\"\"Create a dataframe using the metrics dictionary output\n",
    "    Args:\n",
    "        metrics_dict (dict): dictionary containing all metrics that were tracked during training\n",
    "        \n",
    "    Returns:\n",
    "        df (pandas DataFrame): dataframe showing values of tracked metrics at each epoch\n",
    "        \n",
    "    \"\"\"\n",
    "    # Create empty dictionary\n",
    "    df = dict()\n",
    "    \n",
    "    # Reformat dictionary\n",
    "    for metric, v in metrics_dict.items():\n",
    "        if metric not in ['output', 'target']:            \n",
    "            for mode, epochs in v.items():                \n",
    "                df[f'{mode} {metric}'] = epochs\n",
    "    \n",
    "    # Convert dictionary to dataframe\n",
    "    df = pd.DataFrame(df, index = pd.Index(range(1, len(epochs) + 1)))\n",
    "    \n",
    "    return df  "
   ]
  },
  {
   "cell_type": "code",
   "execution_count": 22,
   "metadata": {},
   "outputs": [
    {
     "data": {
      "text/html": [
       "<div>\n",
       "<style scoped>\n",
       "    .dataframe tbody tr th:only-of-type {\n",
       "        vertical-align: middle;\n",
       "    }\n",
       "\n",
       "    .dataframe tbody tr th {\n",
       "        vertical-align: top;\n",
       "    }\n",
       "\n",
       "    .dataframe thead th {\n",
       "        text-align: right;\n",
       "    }\n",
       "</style>\n",
       "<table border=\"1\" class=\"dataframe\">\n",
       "  <thead>\n",
       "    <tr style=\"text-align: right;\">\n",
       "      <th></th>\n",
       "      <th>train loss</th>\n",
       "      <th>valid loss</th>\n",
       "      <th>train accuracy</th>\n",
       "      <th>valid accuracy</th>\n",
       "      <th>train roc_auc</th>\n",
       "      <th>valid roc_auc</th>\n",
       "      <th>train pr_auc</th>\n",
       "      <th>valid pr_auc</th>\n",
       "    </tr>\n",
       "  </thead>\n",
       "  <tbody>\n",
       "    <tr>\n",
       "      <th>1</th>\n",
       "      <td>0.414068</td>\n",
       "      <td>0.386271</td>\n",
       "      <td>0.844286</td>\n",
       "      <td>0.8502</td>\n",
       "      <td>0.626428</td>\n",
       "      <td>0.690201</td>\n",
       "      <td>0.246151</td>\n",
       "      <td>0.358024</td>\n",
       "    </tr>\n",
       "    <tr>\n",
       "      <th>2</th>\n",
       "      <td>0.389743</td>\n",
       "      <td>0.378147</td>\n",
       "      <td>0.853343</td>\n",
       "      <td>0.8588</td>\n",
       "      <td>0.672935</td>\n",
       "      <td>0.705941</td>\n",
       "      <td>0.334567</td>\n",
       "      <td>0.400284</td>\n",
       "    </tr>\n",
       "    <tr>\n",
       "      <th>3</th>\n",
       "      <td>0.382328</td>\n",
       "      <td>0.379539</td>\n",
       "      <td>0.859343</td>\n",
       "      <td>0.8554</td>\n",
       "      <td>0.691473</td>\n",
       "      <td>0.704283</td>\n",
       "      <td>0.361204</td>\n",
       "      <td>0.398560</td>\n",
       "    </tr>\n",
       "    <tr>\n",
       "      <th>4</th>\n",
       "      <td>0.379216</td>\n",
       "      <td>0.376252</td>\n",
       "      <td>0.861343</td>\n",
       "      <td>0.8638</td>\n",
       "      <td>0.697869</td>\n",
       "      <td>0.703881</td>\n",
       "      <td>0.374426</td>\n",
       "      <td>0.401064</td>\n",
       "    </tr>\n",
       "    <tr>\n",
       "      <th>5</th>\n",
       "      <td>0.376064</td>\n",
       "      <td>0.376102</td>\n",
       "      <td>0.860743</td>\n",
       "      <td>0.8644</td>\n",
       "      <td>0.706363</td>\n",
       "      <td>0.712644</td>\n",
       "      <td>0.383588</td>\n",
       "      <td>0.422187</td>\n",
       "    </tr>\n",
       "    <tr>\n",
       "      <th>6</th>\n",
       "      <td>0.375268</td>\n",
       "      <td>0.374125</td>\n",
       "      <td>0.861886</td>\n",
       "      <td>0.8606</td>\n",
       "      <td>0.709035</td>\n",
       "      <td>0.708227</td>\n",
       "      <td>0.392056</td>\n",
       "      <td>0.415441</td>\n",
       "    </tr>\n",
       "    <tr>\n",
       "      <th>7</th>\n",
       "      <td>0.373549</td>\n",
       "      <td>0.373221</td>\n",
       "      <td>0.861686</td>\n",
       "      <td>0.8636</td>\n",
       "      <td>0.711548</td>\n",
       "      <td>0.717262</td>\n",
       "      <td>0.391476</td>\n",
       "      <td>0.431202</td>\n",
       "    </tr>\n",
       "    <tr>\n",
       "      <th>8</th>\n",
       "      <td>0.371229</td>\n",
       "      <td>0.374848</td>\n",
       "      <td>0.862257</td>\n",
       "      <td>0.8652</td>\n",
       "      <td>0.717224</td>\n",
       "      <td>0.712864</td>\n",
       "      <td>0.399155</td>\n",
       "      <td>0.431386</td>\n",
       "    </tr>\n",
       "    <tr>\n",
       "      <th>9</th>\n",
       "      <td>0.369248</td>\n",
       "      <td>0.373806</td>\n",
       "      <td>0.864200</td>\n",
       "      <td>0.8676</td>\n",
       "      <td>0.720977</td>\n",
       "      <td>0.716277</td>\n",
       "      <td>0.412224</td>\n",
       "      <td>0.431320</td>\n",
       "    </tr>\n",
       "  </tbody>\n",
       "</table>\n",
       "</div>"
      ],
      "text/plain": [
       "   train loss  valid loss  train accuracy  valid accuracy  train roc_auc  \\\n",
       "1    0.414068    0.386271        0.844286          0.8502       0.626428   \n",
       "2    0.389743    0.378147        0.853343          0.8588       0.672935   \n",
       "3    0.382328    0.379539        0.859343          0.8554       0.691473   \n",
       "4    0.379216    0.376252        0.861343          0.8638       0.697869   \n",
       "5    0.376064    0.376102        0.860743          0.8644       0.706363   \n",
       "6    0.375268    0.374125        0.861886          0.8606       0.709035   \n",
       "7    0.373549    0.373221        0.861686          0.8636       0.711548   \n",
       "8    0.371229    0.374848        0.862257          0.8652       0.717224   \n",
       "9    0.369248    0.373806        0.864200          0.8676       0.720977   \n",
       "\n",
       "   valid roc_auc  train pr_auc  valid pr_auc  \n",
       "1       0.690201      0.246151      0.358024  \n",
       "2       0.705941      0.334567      0.400284  \n",
       "3       0.704283      0.361204      0.398560  \n",
       "4       0.703881      0.374426      0.401064  \n",
       "5       0.712644      0.383588      0.422187  \n",
       "6       0.708227      0.392056      0.415441  \n",
       "7       0.717262      0.391476      0.431202  \n",
       "8       0.712864      0.399155      0.431386  \n",
       "9       0.716277      0.412224      0.431320  "
      ]
     },
     "execution_count": 22,
     "metadata": {},
     "output_type": "execute_result"
    }
   ],
   "source": [
    "history_df(metrics_dict)"
   ]
  },
  {
   "cell_type": "markdown",
   "metadata": {},
   "source": [
    "## 7. Evaluate model"
   ]
  },
  {
   "cell_type": "code",
   "execution_count": 23,
   "metadata": {},
   "outputs": [],
   "source": [
    "def evaluate(model,\n",
    "             test_loader):\n",
    "    \"\"\"Evaluate a PyTorch neural network\n",
    "\n",
    "    Args:\n",
    "        model (PyTorch model): neural network to test\n",
    "        test_loader (PyTorch dataloader): test dataloader to iterate through\n",
    "\n",
    "    Returns:\n",
    "        metrics_dict (dict): dictionary containing all metrics that were tracked during testing\n",
    "        \n",
    "    \"\"\"\n",
    "    # Create metrics dictionary and initialize with empty values\n",
    "    metrics_dict = {'target': {'test': [[]]}, \n",
    "                    'output': {'test': [np.empty((0, 2))]},\n",
    "                    'accuracy': {'test': [[]]},\n",
    "                    'roc_auc': {'test': [[]]},\n",
    "                    'pr_auc': {'test': [[]]}}\n",
    "    \n",
    "    # Set to evaluation mode\n",
    "    model.eval()\n",
    "    \n",
    "    with torch.no_grad():\n",
    "\n",
    "        # Testing loop\n",
    "        for data, target in test_loader:\n",
    "\n",
    "            # Predicted outputs\n",
    "            output = model(data)\n",
    "\n",
    "            # Append target and output to lists\n",
    "            metrics_dict['target']['test'][-1] = np.append(metrics_dict['target']['test'][-1], target.data.cpu().numpy())\n",
    "            metrics_dict['output']['test'][-1] = np.vstack((metrics_dict['output']['test'][-1], output.data.cpu().numpy()))\n",
    "            \n",
    "        # Add accuracy to the metrics dictionary       \n",
    "        pred = np.argmax(metrics_dict['output']['test'][-1], axis=1) # Convert output probability to 0 or 1\n",
    "        correct = (pred == metrics_dict['target']['test'][-1])\n",
    "        metrics_dict['accuracy']['test'][-1] = sum(correct) / len(correct)\n",
    "\n",
    "        # Add ROC AUC to the metrics dictionary\n",
    "        fpr, tpr, _ = roc_curve(metrics_dict['target']['test'][-1], metrics_dict['output']['test'][-1][:, 1]) # select positive class\n",
    "        metrics_dict['roc_auc']['test'][-1] = auc(fpr, tpr)\n",
    "\n",
    "        # Add PR AUC to the metrics dictionary\n",
    "        metrics_dict['pr_auc']['test'][-1] = average_precision_score(metrics_dict['target']['test'][-1], metrics_dict['output']['test'][-1][:, 1]) # select positive class\n",
    "        \n",
    "        # Print metrics\n",
    "        print(f\"accuracy {metrics_dict['accuracy']['test'][-1]:.4f}, roc_auc {metrics_dict['roc_auc']['test'][-1]:.4f}, pr_auc {metrics_dict['pr_auc']['test'][-1]:.4f}\")\n",
    "        \n",
    "    return metrics_dict"
   ]
  },
  {
   "cell_type": "code",
   "execution_count": 24,
   "metadata": {},
   "outputs": [
    {
     "name": "stdout",
     "output_type": "stream",
     "text": [
      "accuracy 0.8656, roc_auc 0.7010, pr_auc 0.3971\n"
     ]
    }
   ],
   "source": [
    "metrics_dict = evaluate(model, dataloaders['test'])"
   ]
  },
  {
   "cell_type": "markdown",
   "metadata": {},
   "source": [
    "Using the functions that we defined earlier, we can visualize the final performance"
   ]
  },
  {
   "cell_type": "code",
   "execution_count": 25,
   "metadata": {},
   "outputs": [
    {
     "data": {
      "text/html": [
       "<div>\n",
       "<style scoped>\n",
       "    .dataframe tbody tr th:only-of-type {\n",
       "        vertical-align: middle;\n",
       "    }\n",
       "\n",
       "    .dataframe tbody tr th {\n",
       "        vertical-align: top;\n",
       "    }\n",
       "\n",
       "    .dataframe thead th {\n",
       "        text-align: right;\n",
       "    }\n",
       "</style>\n",
       "<table border=\"1\" class=\"dataframe\">\n",
       "  <thead>\n",
       "    <tr style=\"text-align: right;\">\n",
       "      <th></th>\n",
       "      <th>test accuracy</th>\n",
       "      <th>test roc_auc</th>\n",
       "      <th>test pr_auc</th>\n",
       "    </tr>\n",
       "  </thead>\n",
       "  <tbody>\n",
       "    <tr>\n",
       "      <th>1</th>\n",
       "      <td>0.8656</td>\n",
       "      <td>0.700983</td>\n",
       "      <td>0.397142</td>\n",
       "    </tr>\n",
       "  </tbody>\n",
       "</table>\n",
       "</div>"
      ],
      "text/plain": [
       "   test accuracy  test roc_auc  test pr_auc\n",
       "1         0.8656      0.700983     0.397142"
      ]
     },
     "execution_count": 25,
     "metadata": {},
     "output_type": "execute_result"
    }
   ],
   "source": [
    "history_df(metrics_dict)"
   ]
  },
  {
   "cell_type": "code",
   "execution_count": 26,
   "metadata": {},
   "outputs": [
    {
     "data": {
      "text/plain": [
       "<AxesSubplot:title={'center':'ROC curve'}, xlabel='False Positive Rate', ylabel='True Positive Rate'>"
      ]
     },
     "execution_count": 26,
     "metadata": {},
     "output_type": "execute_result"
    },
    {
     "data": {
      "image/png": "[encoded data removed]",
      "text/plain": [
       "<Figure size 432x288 with 1 Axes>"
      ]
     },
     "metadata": {
      "needs_background": "light"
     },
     "output_type": "display_data"
    }
   ],
   "source": [
    "plot_roc_curve(metrics_dict, 1, 'test')"
   ]
  },
  {
   "cell_type": "code",
   "execution_count": 27,
   "metadata": {},
   "outputs": [
    {
     "data": {
      "text/plain": [
       "<AxesSubplot:title={'center':'PR curve'}, xlabel='Recall', ylabel='Precision'>"
      ]
     },
     "execution_count": 27,
     "metadata": {},
     "output_type": "execute_result"
    },
    {
     "data": {
      "image/png": "[encoded data removed]",
      "text/plain": [
       "<Figure size 432x288 with 1 Axes>"
      ]
     },
     "metadata": {
      "needs_background": "light"
     },
     "output_type": "display_data"
    }
   ],
   "source": [
    "plot_pr_curve(metrics_dict, 1, 'test')"
   ]
  }
 ],
 "metadata": {
  "kernelspec": {
   "display_name": "Python 3",
   "language": "python",
   "name": "python3"
  },
  "language_info": {
   "codemirror_mode": {
    "name": "ipython",
    "version": 3
   },
   "file_extension": ".py",
   "mimetype": "text/x-python",
   "name": "python",
   "nbconvert_exporter": "python",
   "pygments_lexer": "ipython3",
   "version": "3.8.5"
  }
 },
 "nbformat": 4,
 "nbformat_minor": 4
}
